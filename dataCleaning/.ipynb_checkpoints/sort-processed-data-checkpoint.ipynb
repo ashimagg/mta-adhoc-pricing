{
 "cells": [
  {
   "cell_type": "code",
   "execution_count": 4,
   "metadata": {
    "scrolled": true
   },
   "outputs": [
    {
     "name": "stdout",
     "output_type": "stream",
     "text": [
      "['FOREST HILLS 71', '67 AV', '63 DR-REGO PARK', 'WOODHAVEN BLVD', 'GRAND-NEWTOWN', 'ELMHURST AV', 'JKSN HT-ROOSVLT', '65 ST', 'NORTHERN BLVD', '46 ST', 'STEINWAY ST', '36 ST', 'QUEENS PLAZA', 'BAY RIDGE AV', '5 AV/59 ST', '25 ST', '49 ST', 'TIMES SQ-42 ST', '34 ST-HERALD SQ', '28 ST', '23 ST', '14 ST-UNION SQ', '8 ST-NYU', 'PRINCE ST', 'CANAL ST', 'CITY HALL', 'CORTLANDT ST', 'RECTOR ST', 'WHITEHALL S-FRY', 'BOROUGH HALL', 'JAY ST-METROTEC', 'DEKALB AV', 'ATL AV-BARCLAY', 'UNION ST', '4 AV-9 ST', 'PROSPECT AV', '25 ST', '36 ST', '45 ST', '53 ST', '59 ST', 'BAY RIDGE AV', '77 ST', '86 ST', 'BAY RIDGE-95 ST', '']\n",
      "['14 ST-UNION SQ' '23 ST' '25 ST' '28 ST' '34 ST-HERALD SQ' '36 ST'\n",
      " '4 AV-9 ST' '45 ST' '46 ST' '49 ST' '5 AV/59 ST' '53 ST' '59 ST'\n",
      " '63 DR-REGO PARK' '65 ST' '67 AV' '77 ST' '8 ST-NYU' '86 ST'\n",
      " 'ATL AV-BARCLAY' 'BAY RIDGE AV' 'BAY RIDGE-95 ST' 'BOROUGH HALL'\n",
      " 'CANAL ST' 'CITY HALL' 'CORTLANDT ST' 'DEKALB AV' 'ELMHURST AV'\n",
      " 'FOREST HILLS 71' 'GRAND-NEWTOWN' 'JAY ST-METROTEC' 'JKSN HT-ROOSVLT'\n",
      " 'NORTHERN BLVD' 'PRINCE ST' 'PROSPECT AV' 'QUEENS PLAZA' 'RECTOR ST'\n",
      " 'STEINWAY ST' 'TIMES SQ-42 ST' 'UNION ST' 'WHITEHALL S-FRY'\n",
      " 'WOODHAVEN BLVD']\n",
      "['JAMAICA 179 ST', '169 ST', 'PARSONS BLVD', '75 AV', 'FOREST HILLS 71', 'JKSN HT-ROOSVLT', '21 ST-QNSBRIDGE', 'ROOSEVELT ISLND', 'LEXINGTON AV/63', '57 ST', '47-50 STS ROCK', '42 ST-BRYANT PK', '34 ST-HERALD SQ', '23 ST', '14 ST', 'W 4 ST-WASH SQ', \"B'WAY-LAFAYETTE\", '2 AV', 'DELANCEY/ESSEX', 'EAST BROADWAY', 'YORK ST', 'JAY ST-METROTEC', 'BERGEN ST', 'CARROLL ST', 'SMITH-9 ST', '4 AV-9 ST', '7 AV', '15 ST-PROSPECT', 'FT HAMILTON PKY', 'CHURCH AV', 'DITMAS AV', '18 AV', 'AVENUE I', 'BAY PKWY', 'AVENUE N', 'AVENUE P', 'KINGS HWY', 'AVENUE U', 'AVENUE X', 'NEPTUNE AV', 'CONEY IS-STILLW', '']\n",
      "['14 ST' '15 ST-PROSPECT' '169 ST' '18 AV' '2 AV' '21 ST-QNSBRIDGE'\n",
      " '23 ST' '34 ST-HERALD SQ' '4 AV-9 ST' '42 ST-BRYANT PK' '47-50 STS ROCK'\n",
      " '57 ST' '7 AV' '75 AV' 'AVENUE I' 'AVENUE N' 'AVENUE P' 'AVENUE U'\n",
      " 'AVENUE X' \"B'WAY-LAFAYETTE\" 'BAY PKWY' 'BERGEN ST' 'CARROLL ST'\n",
      " 'CHURCH AV' 'CONEY IS-STILLW' 'DELANCEY/ESSEX' 'DITMAS AV'\n",
      " 'EAST BROADWAY' 'FOREST HILLS 71' 'FT HAMILTON PKY' 'JAMAICA 179 ST'\n",
      " 'JAY ST-METROTEC' 'JKSN HT-ROOSVLT' 'KINGS HWY' 'LEXINGTON AV/63'\n",
      " 'NEPTUNE AV' 'PARSONS BLVD' 'ROOSEVELT ISLND' 'SMITH-9 ST'\n",
      " 'W 4 ST-WASH SQ' 'YORK ST']\n",
      "['NORWOOD 205 ST', 'BEDFORD PK BLVD', 'KINGSBRIDGE RD', 'FORDHAM RD', '182-183 STS', '174-175 STS', '170 ST', '167 ST', '161/YANKEE STAD', '155 ST', '145 ST', '125 ST', '59 ST COLUMBUS', '7 AV', '47-50 STS ROCK', '42 ST-BRYANT PK', '34 ST-HERALD SQ', 'W 4 ST-WASH SQ', \"B'WAY-LAFAYETTE\", 'GRAND ST', 'ATL AV-BARCLAY', '36 ST', '9 AV', 'FT HAMILTON PKY', '50 ST', '71 ST', '79 ST', '18 AV', '20 AV', 'BAY PKWY', '25 AV', 'BAY 50 ST', 'CONEY IS-STILLW', '']\n",
      "['125 ST' '145 ST' '155 ST' '161/YANKEE STAD' '167 ST' '170 ST'\n",
      " '174-175 STS' '18 AV' '182-183 STS' '20 AV' '25 AV' '34 ST-HERALD SQ'\n",
      " '36 ST' '42 ST-BRYANT PK' '47-50 STS ROCK' '50 ST' '59 ST COLUMBUS'\n",
      " '7 AV' '71 ST' '79 ST' '9 AV' 'ATL AV-BARCLAY' \"B'WAY-LAFAYETTE\"\n",
      " 'BAY 50 ST' 'BAY PKWY' 'BEDFORD PK BLVD' 'CONEY IS-STILLW' 'FORDHAM RD'\n",
      " 'FT HAMILTON PKY' 'GRAND ST' 'KINGSBRIDGE RD' 'NORWOOD 205 ST'\n",
      " 'W 4 ST-WASH SQ']\n"
     ]
    }
   ],
   "source": [
    "import pandas as pd\n",
    "\n",
    "\n",
    "sorted_stations_for_line = []\n",
    "\n",
    "\n",
    "# line = '6'\n",
    "# with open('sorted/' + line + '-sorted.txt', 'r') as f:\n",
    "#     sorted_stations_for_line = f.readlines()\n",
    "for line in ['R', 'F', 'D']:\n",
    "    text_file = open('sorted/' + line + '-sorted.txt', \"r\")\n",
    "    sorted_stations_for_line = text_file.read().split('\\n')\n",
    "\n",
    "    df = pd.read_csv('./' + line + \"line.csv\")\n",
    "    print(sorted_stations_for_line)\n",
    "    sort_dict = {k: v for v, k in enumerate(sorted_stations_for_line)}\n",
    "    df = df.drop(df[~df['STATION'].isin(sorted_stations_for_line)].index)\n",
    "\n",
    "    # print(df)    \n",
    "    unique_stations = df['STATION'].unique()\n",
    "    print(unique_stations)\n",
    "#     with open('sorted/' + line + '-uniq.txt', 'w') as f:\n",
    "#                 for item in unique_stations:\n",
    "#                     f.write(\"%s\\n\" % item)\n",
    "\n",
    "    df = df.iloc[df['STATION'].map(sort_dict).argsort()]\n",
    "    df = df.sort_values(by=['DATE','TIME'])\n",
    "    df.to_csv('./' + line + \"line.csv\")"
   ]
  },
  {
   "cell_type": "code",
   "execution_count": null,
   "metadata": {},
   "outputs": [],
   "source": []
  }
 ],
 "metadata": {
  "kernelspec": {
   "display_name": "Python 3",
   "language": "python",
   "name": "python3"
  },
  "language_info": {
   "codemirror_mode": {
    "name": "ipython",
    "version": 3
   },
   "file_extension": ".py",
   "mimetype": "text/x-python",
   "name": "python",
   "nbconvert_exporter": "python",
   "pygments_lexer": "ipython3",
   "version": "3.7.1"
  }
 },
 "nbformat": 4,
 "nbformat_minor": 2
}
